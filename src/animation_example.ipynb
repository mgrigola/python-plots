{
 "cells": [
  {
   "cell_type": "code",
   "execution_count": 16,
   "metadata": {},
   "outputs": [
    {
     "data": {
      "text/html": [
       "<style>.container { width: 100% !important; }</style>"
      ],
      "text/plain": [
       "<IPython.core.display.HTML object>"
      ]
     },
     "metadata": {},
     "output_type": "display_data"
    },
    {
     "data": {
      "image/png": "[encoded data removed]",
      "text/plain": [
       "<Figure size 518.4x345.6 with 1 Axes>"
      ]
     },
     "metadata": {},
     "output_type": "display_data"
    }
   ],
   "source": [
    "#uses some blood cell tracking data to create a simple matplotlib animation or cell trajectories\n",
    "#mostly to document/have an example of the process in case it comes up again\n",
    "\n",
    "from IPython.core.display import display, HTML\n",
    "display(HTML(\"<style>.container { width: 100% !important; }</style>\"))\n",
    "\n",
    "import numpy as np\n",
    "import matplotlib.pyplot as plt\n",
    "import matplotlib.animation as animation\n",
    "#import pandas as pd #oh dear, what was I thinking\n",
    "ffmpegPath = 'C:/ffmpeg/bin/ffmpeg.exe'  # to run this (I think? or maybe just to compress I've forgotten) you gotta install/compile ffmpeg. enter the path to the exe here\n",
    "\n",
    "# choose input/output\n",
    "fileName = 'cellData_2017-01-25 11-48-08'\n",
    "dataDir = '../data/'\n",
    "outputDir = '../output/'\n",
    "\n",
    "#\n",
    "outputCodec = 'libx264' #might need to alter codec depending on what you have installed\n",
    "outputFps = 30          #default playback rate. doesn't affect content really\n",
    "outputBitrate = 4000    #bits/sec. It's a complicated beast, appropriate valeu will depend on resolution, framerate, complexity of content, etc\n",
    "\n",
    "\n",
    "#read data (should really use pandas)\n",
    "cellDataPath = dataDir+fileName+'.csv'\n",
    "cData = np.genfromtxt(cellDataPath, delimiter=',', usecols=range(8), names=True)\n",
    "\n",
    "plt.rcParams['animation.ffmpeg_path'] = ffmpegPath\n",
    "ffWriter = animation.FFMpegWriter(bitrate=4000, codec='libx264', fps=30) #i think u can pass extra_args={'stuff':val, ...} to set params used by ffmpeg (e.g. resolution), but i haven't tried it\n",
    "\n",
    "#we basically create a plot/figure, then clear+redraw it again for each frame in animation, then join those plots together\n",
    "fig = plt.figure(figsize=(7.2,4.8))\n",
    "ax = fig.add_subplot(111)\n",
    "hsv_map = plt.cm.get_cmap('hsv')\n",
    "\n",
    "def animate_one_frame(frameNo):\n",
    "    ax.clear()\n",
    "    ax.set_xlim(0, 720)\n",
    "    ax.set_ylim(0, 480)\n",
    "    ax.invert_yaxis()\n",
    "    frameRows = (cData[:]['Frame']==frameNo)\n",
    "    cellColor = hsv_map(((cData[frameRows,]['Cell_ID']*96)%360)/360)\n",
    "    cellSize  = cData[frameRows]['Area']*20/100\n",
    "    return ax.scatter(cData[frameRows]['X'], cData[frameRows]['Y'], color=cellColor, s=cellSize)\n",
    "\n",
    "# # Init only required for blitting to give a clean slate.\n",
    "#i'm not actually using this or doing anything useful with the init, but it's here\n",
    "def init_first():\n",
    "    ax.set_xlim(0, 720)\n",
    "    ax.set_ylim(0, 480)\n",
    "    ax.invert_yaxis()\n",
    "    blitThing = ax.scatter([], [])\n",
    "    return blitThing,\n",
    "\n",
    "startFrame = np.min(cData['Frame'])\n",
    "endFrame = np.max(cData['Frame'])\n",
    "outputPath = outputDir + fileName + '.avi'\n",
    "\n",
    "#ani = animation.FuncAnimation(fig, animate, np.arange(startFrame, endFrame), init_func=init, blit=True, repeat=False)\n",
    "#ani = animation.FuncAnimation(fig, animate_one_frame, np.arange(startFrame, endFrame), repeat=False)\n",
    "ani = animation.FuncAnimation(fig, func=animate_one_frame, init_func=init_first, frames=np.arange(startFrame, endFrame), repeat=False, save_count=100)\n",
    "ani.save(outputPath, writer=ffWriter, dpi=100)  #dpi controls the resolution along with figsize: dpi*<figsize>\n",
    "\n",
    "# plt.show() #i'm sure you can play the animation here, but this isn't it"
   ]
  }
 ],
 "metadata": {
  "kernelspec": {
   "display_name": "Python 3",
   "language": "python",
   "name": "python3"
  },
  "language_info": {
   "codemirror_mode": {
    "name": "ipython",
    "version": 3
   },
   "file_extension": ".py",
   "mimetype": "text/x-python",
   "name": "python",
   "nbconvert_exporter": "python",
   "pygments_lexer": "ipython3",
   "version": "3.6.3"
  }
 },
 "nbformat": 4,
 "nbformat_minor": 2
}
